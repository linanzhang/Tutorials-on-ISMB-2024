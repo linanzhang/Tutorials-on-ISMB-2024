{
 "cells": [
  {
   "cell_type": "code",
   "execution_count": 1,
   "metadata": {},
   "outputs": [],
   "source": [
    "import matplotlib.pyplot as plt\n",
    "import numpy as np\n",
    "import pandas as pd\n",
    "import scanpy as sc\n",
    "import seaborn as sns\n",
    "\n",
    "from anndata import AnnData\n",
    "from scipy.stats import pearsonr, wilcoxon\n",
    "from sklearn.metrics import mean_squared_error\n",
    "\n",
    "import warnings \n",
    "warnings.filterwarnings('ignore') \n",
    "\n",
    "import stan"
   ]
  },
  {
   "cell_type": "markdown",
   "metadata": {},
   "source": [
    "## Loading ST dataset"
   ]
  },
  {
   "cell_type": "markdown",
   "metadata": {},
   "source": [
    "We use a Visium spatial transcriptomics dataset of the human lymph node, which is publicly available from [the 10x genomics website](https://support.10xgenomics.com/spatial-gene-expression/datasets/1.0.0/V1_Human_Lymph_Node). For first time use, the dataset will be downloaded to the directory `data/V1_Human_Lymph_Node` by default."
   ]
  },
  {
   "cell_type": "code",
   "execution_count": 2,
   "metadata": {},
   "outputs": [
    {
     "data": {
      "text/plain": [
       "AnnData object with n_obs × n_vars = 4035 × 36601\n",
       "    obs: 'in_tissue', 'array_row', 'array_col'\n",
       "    var: 'gene_ids', 'feature_types', 'genome'\n",
       "    uns: 'spatial'\n",
       "    obsm: 'spatial'"
      ]
     },
     "execution_count": 2,
     "metadata": {},
     "output_type": "execute_result"
    }
   ],
   "source": [
    "adata = sc.datasets.visium_sge(sample_id=\"V1_Human_Lymph_Node\")\n",
    "adata.var_names_make_unique()\n",
    "adata"
   ]
  },
  {
   "cell_type": "markdown",
   "metadata": {},
   "source": [
    "We perform some basic filtering of genes and spots."
   ]
  },
  {
   "cell_type": "code",
   "execution_count": 3,
   "metadata": {},
   "outputs": [],
   "source": [
    "sc.pp.filter_genes(adata, min_cells=5)\n",
    "sc.pp.filter_cells(adata, min_counts=5000)"
   ]
  },
  {
   "cell_type": "markdown",
   "metadata": {},
   "source": [
    "Write the processed data to file."
   ]
  },
  {
   "cell_type": "code",
   "execution_count": 4,
   "metadata": {},
   "outputs": [
    {
     "name": "stdout",
     "output_type": "stream",
     "text": [
      "mkdir: results_lymphnode/: File exists\r\n"
     ]
    }
   ],
   "source": [
    "!mkdir results_lymphnode/\n",
    "adata.write(\"results_lymphnode/lymphnode.h5ad\")"
   ]
  },
  {
   "cell_type": "markdown",
   "metadata": {},
   "source": [
    "## Loading the gene-TF prior matrix"
   ]
  },
  {
   "cell_type": "markdown",
   "metadata": {},
   "source": [
    "We obtain a gene set resource comprising TF–target gene priors from [hTFtarget](https://guolab.wchscu.cn/hTFtarget/#!/), and retain only those TFs that were identified in the Human Transcription Factor database [(humantfs)](https://www.cell.com/cell/fulltext/S0092-8674(18)30106-5) to generate the TF–target gene prior matrix. For first time use, the prior information will be downloaded to the directory `data/gene_tf` by default."
   ]
  },
  {
   "cell_type": "markdown",
   "metadata": {},
   "source": [
    "For the ST dataset, the TF–target gene prior matrix (referred to as $D$) and the spot-level gene expression matrix (referred to as $Y$) undergo a sequential filtering process:\n",
    "- In $Y$, genes expressed in less than 20% of the spots are removed. \n",
    "- Only mutual genes present in both matrices are retained. \n",
    "- In $D$, genes associated with less than 5 remaining TFs are removed, and TFs associated with fewer than 10 remaining genes are removed.\n",
    "\n",
    "All paramters are tunable. The filtered TF–target gene prior matrix is stored in `adata.varm['gene_tf']`."
   ]
  },
  {
   "cell_type": "code",
   "execution_count": 5,
   "metadata": {},
   "outputs": [],
   "source": [
    "adata = stan.add_gene_tf_matrix(adata,\n",
    "                                min_cells_proportion = 0.2,\n",
    "                                min_tfs_per_gene= 5,\n",
    "                                min_genes_per_tf= 10,\n",
    "                                gene_tf_source=\"hTFtarget\",\n",
    "                                tf_list=\"humantfs\",\n",
    "                                source_dir=\"data/gene_tf/\")"
   ]
  },
  {
   "cell_type": "markdown",
   "metadata": {},
   "source": [
    "We check the sizes of the matrices after filtering."
   ]
  },
  {
   "cell_type": "code",
   "execution_count": 6,
   "metadata": {},
   "outputs": [
    {
     "name": "stdout",
     "output_type": "stream",
     "text": [
      "gene-TF matrix: 8931 x 234\n",
      "min tfs associated with each gene: 5\n",
      "min genes associated with each tf: 10\n"
     ]
    }
   ],
   "source": [
    "D = adata.varm['gene_tf']\n",
    "print('gene-TF matrix: {} x {}'.format(D.shape[0], D.shape[1]))\n",
    "print('min tfs associated with each gene: {}'.format(D.T.abs().sum().min()))\n",
    "print('min genes associated with each tf: {}'.format(D.abs().sum().min()))"
   ]
  },
  {
   "cell_type": "code",
   "execution_count": 7,
   "metadata": {},
   "outputs": [
    {
     "name": "stdout",
     "output_type": "stream",
     "text": [
      "gene-cell matrix: 8931 x 3991\n",
      "min cells associated with each gene: 799\n",
      "min genes associated with each cell: 2132\n"
     ]
    }
   ],
   "source": [
    "Y = adata.to_df()\n",
    "print('gene-cell matrix: {} x {}'.format(Y.shape[1], Y.shape[0]))\n",
    "print('min cells associated with each gene: {}'.format((Y>0).sum().min()))\n",
    "print('min genes associated with each cell: {}'.format((Y>0).T.sum().min()))"
   ]
  },
  {
   "cell_type": "markdown",
   "metadata": {},
   "source": [
    "## Computing the spatially dependent kernel"
   ]
  },
  {
   "cell_type": "markdown",
   "metadata": {},
   "source": [
    "A Gaussian kernel matrix $K$,  stored in `adata.obsm['kernel']`, is computed based on the spatial and morphological information of the spot and a neighborhood of a square.\n",
    "-  `windowsize`: length of the half side of the square (unit: pixel).\n",
    "- `bandwidth`: band width using the computation of $K$.\n",
    "- `im_feats_weight`: morphological info to spatial info ratio.\n",
    "- `n`: the top $n$ singular values of $A$ in SVD.\n",
    "\n",
    "All paramters are tunable. The spatial and morphological information is stored in `adata.obsm['spatial']` and `adata.obsm['pixel']` respectively, and are normalized to have zero mean and unit variance for each component."
   ]
  },
  {
   "cell_type": "code",
   "execution_count": 8,
   "metadata": {},
   "outputs": [
    {
     "name": "stdout",
     "output_type": "stream",
     "text": [
      "Time elapsed: 0.29 seconds\n",
      "Time elapsed: 6.10 seconds\n"
     ]
    }
   ],
   "source": [
    "stan.pixel_intensity(adata, windowsize=25)\n",
    "stan.make_kernel(adata, n=250, im_feats_weight=0.05, bandwidth=0.2)"
   ]
  },
  {
   "cell_type": "markdown",
   "metadata": {},
   "source": [
    "We normalize each spot by total counts over all genes, and then square root transform the total count to stabilize the variance."
   ]
  },
  {
   "cell_type": "code",
   "execution_count": 9,
   "metadata": {},
   "outputs": [],
   "source": [
    "sc.pp.normalize_total(adata)\n",
    "adata.layers['scaled'] = np.sqrt(adata.to_df())"
   ]
  },
  {
   "cell_type": "markdown",
   "metadata": {},
   "source": [
    "## GRN inference using Ridge regression (baseline)"
   ]
  },
  {
   "cell_type": "markdown",
   "metadata": {},
   "source": [
    "10-fold cross validatoin"
   ]
  },
  {
   "cell_type": "code",
   "execution_count": 10,
   "metadata": {},
   "outputs": [],
   "source": [
    "stan.assign_folds(adata, n_folds=10, random_seed=0)\n",
    "ridge_model = stan.Ridge(adata, layer='scaled')"
   ]
  },
  {
   "cell_type": "markdown",
   "metadata": {},
   "source": [
    "Grid search for parameters ranging from 1e-4 to 1e4\n",
    "i.e. 1e-4, 1e-2, 1, 1e2, 1e4"
   ]
  },
  {
   "cell_type": "code",
   "execution_count": 11,
   "metadata": {},
   "outputs": [
    {
     "name": "stdout",
     "output_type": "stream",
     "text": [
      "Time elapsed: 28.95 seconds\n"
     ]
    }
   ],
   "source": [
    "ridge_model.fit(n_steps=5, stages=1, grid_search_params={'lam':[1e-4, 1e4]})"
   ]
  },
  {
   "cell_type": "markdown",
   "metadata": {},
   "source": [
    "Evaluate the cross validation performance using Pearsonr correlation coefficient.\n",
    "\n",
    "Note: computing correlation is time consuming."
   ]
  },
  {
   "cell_type": "code",
   "execution_count": 12,
   "metadata": {},
   "outputs": [
    {
     "name": "stdout",
     "output_type": "stream",
     "text": [
      "{'lam': 0.01}\n",
      "Spot-wise correlation:0.2116\n",
      "Gene-wise correlation: 0.07\n"
     ]
    }
   ],
   "source": [
    "cor, gene_cor = ridge_model.evaluate(fold=-1)\n",
    "adata.obs['pred_cor_ridge'] = cor\n",
    "adata.var['pred_cor_ridge'] = gene_cor\n",
    "\n",
    "print(ridge_model.params)\n",
    "print(\"Spot-wise correlation:\" + str(round(np.nanmedian(cor), 4)))\n",
    "print(\"Gene-wise correlation: \" + str(round(np.nanmedian(gene_cor), 4)))"
   ]
  },
  {
   "cell_type": "markdown",
   "metadata": {},
   "source": [
    "Evaluate the validation performance using mean squared error."
   ]
  },
  {
   "cell_type": "code",
   "execution_count": 13,
   "metadata": {},
   "outputs": [
    {
     "data": {
      "text/plain": [
       "1.0552204270068621"
      ]
     },
     "execution_count": 13,
     "metadata": {},
     "output_type": "execute_result"
    }
   ],
   "source": [
    "Y = adata.varm['gene_tf'].dot(ridge_model.W_concat)\n",
    "mean_squared_error(Y, adata.to_df('scaled').T)"
   ]
  },
  {
   "cell_type": "markdown",
   "metadata": {},
   "source": [
    "Store the inferred TF activity matrix in `adata.obsm['tfa_ridge']`."
   ]
  },
  {
   "cell_type": "code",
   "execution_count": 14,
   "metadata": {},
   "outputs": [],
   "source": [
    "adata.obsm['tfa_ridge'] = pd.DataFrame(\n",
    "    ridge_model.W_concat.T, index=adata.obs_names, columns=adata.uns['tf_names'])"
   ]
  },
  {
   "cell_type": "markdown",
   "metadata": {},
   "source": [
    "## GRN inference using STAN"
   ]
  },
  {
   "cell_type": "markdown",
   "metadata": {},
   "source": [
    "The program finds the optimal parameters on a $5\\times5$ grid, so it will take a few minutes."
   ]
  },
  {
   "cell_type": "code",
   "execution_count": 15,
   "metadata": {},
   "outputs": [
    {
     "name": "stdout",
     "output_type": "stream",
     "text": [
      "Time elapsed: 128.45 seconds\n"
     ]
    }
   ],
   "source": [
    "stan_model = stan.Stan(adata, layer='scaled')\n",
    "stan_model.fit(n_steps=5, stages=1,\n",
    "              grid_search_params={'lam1':[1e-4, 1e4], 'lam2':[1e-4, 1e4]})"
   ]
  },
  {
   "cell_type": "markdown",
   "metadata": {},
   "source": [
    "Evaluate the cross validation performance using Pearsonr correlation coefficient."
   ]
  },
  {
   "cell_type": "code",
   "execution_count": 16,
   "metadata": {},
   "outputs": [
    {
     "name": "stdout",
     "output_type": "stream",
     "text": [
      "{'lam2': 10000.0, 'lam1': 10000.0}\n",
      "Spot-wise correlation:0.2281\n",
      "Gene-wise correlation: 0.0919\n"
     ]
    }
   ],
   "source": [
    "cor, gene_cor = stan_model.evaluate(fold=-1)\n",
    "adata.obs['pred_cor_stan'] = cor\n",
    "adata.var['pred_cor_stan'] = gene_cor\n",
    "\n",
    "print(stan_model.params)\n",
    "print(\"Spot-wise correlation:\" + str(round(np.nanmedian(cor), 4)))\n",
    "print(\"Gene-wise correlation: \" + str(round(np.nanmedian(gene_cor), 4)))"
   ]
  },
  {
   "cell_type": "markdown",
   "metadata": {},
   "source": [
    "Evaluate the validation performance using mean squared error."
   ]
  },
  {
   "cell_type": "code",
   "execution_count": 17,
   "metadata": {},
   "outputs": [
    {
     "data": {
      "text/plain": [
       "1.044083649293358"
      ]
     },
     "execution_count": 17,
     "metadata": {},
     "output_type": "execute_result"
    }
   ],
   "source": [
    "Y = adata.varm['gene_tf'].dot(stan_model.W_concat)\n",
    "mean_squared_error(Y, adata.to_df('scaled').T)"
   ]
  },
  {
   "cell_type": "markdown",
   "metadata": {},
   "source": [
    "Store the inferred TF activity matrix in `adata.obsm['tfa_stan']`."
   ]
  },
  {
   "cell_type": "code",
   "execution_count": 18,
   "metadata": {},
   "outputs": [],
   "source": [
    "adata.obsm['tfa_stan'] = pd.DataFrame(\n",
    "    stan_model.W_concat.T, index=adata.obs_names, columns=adata.uns['tf_names'])"
   ]
  },
  {
   "cell_type": "markdown",
   "metadata": {},
   "source": [
    "## Writing the results to files"
   ]
  },
  {
   "cell_type": "code",
   "execution_count": 19,
   "metadata": {},
   "outputs": [],
   "source": [
    "adata.write(\"results_lymphnode/lymphnode_stan.h5ad\")"
   ]
  },
  {
   "cell_type": "code",
   "execution_count": null,
   "metadata": {},
   "outputs": [],
   "source": []
  }
 ],
 "metadata": {
  "kernelspec": {
   "display_name": "Python 3",
   "language": "python",
   "name": "python3"
  },
  "language_info": {
   "codemirror_mode": {
    "name": "ipython",
    "version": 3
   },
   "file_extension": ".py",
   "mimetype": "text/x-python",
   "name": "python",
   "nbconvert_exporter": "python",
   "pygments_lexer": "ipython3",
   "version": "3.8.5"
  }
 },
 "nbformat": 4,
 "nbformat_minor": 4
}
