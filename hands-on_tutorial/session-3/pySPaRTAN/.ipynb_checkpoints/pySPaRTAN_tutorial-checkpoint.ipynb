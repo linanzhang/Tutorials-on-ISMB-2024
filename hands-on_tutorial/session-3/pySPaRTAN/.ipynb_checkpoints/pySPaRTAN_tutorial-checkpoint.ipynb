{
 "cells": [
  {
   "cell_type": "markdown",
   "id": "72479ea0-2dd9-4f27-8343-b3da41005ba8",
   "metadata": {},
   "source": [
    "# pySPaRTAN:a Python computational framework for linking cell-surface receptors to transcriptional regulators"
   ]
  },
  {
   "cell_type": "markdown",
   "id": "7c795b4f-11ea-4da8-bc64-aca04bbacdde",
   "metadata": {},
   "source": [
    "## Introduction"
   ]
  },
  {
   "cell_type": "markdown",
   "id": "1d21ee2d-4eb0-42cc-bc6e-2346ab8f1419",
   "metadata": {},
   "source": [
    "<img src=\"SPaRTAN_diagram.png\" alt=\"Diagram\" width=\"800\" />"
   ]
  },
  {
   "cell_type": "markdown",
   "id": "c530fd9e-998e-4521-b15c-d936a1c6da28",
   "metadata": {},
   "source": [
    "There are three inputs for the package: D, P Y\n",
    "\n",
    "D: gene-tf matrix. It is included in pySPaRTAN package.\n",
    "\n",
    "P: cell x protein matrix. given by user\n",
    "\n",
    "Y: gene x cell matrix, given by user\n",
    "\n",
    "P and Y are generated from CITE-seq data through quality control and filtering."
   ]
  },
  {
   "cell_type": "markdown",
   "id": "7f220103-e895-458f-a502-922f5e8d338e",
   "metadata": {},
   "source": [
    "## Environment setup"
   ]
  },
  {
   "cell_type": "markdown",
   "id": "82d919fa-1b7d-4d68-a876-9e2400ae34b8",
   "metadata": {},
   "source": [
    "Please follow the section Managing Packages in repository README file"
   ]
  },
  {
   "cell_type": "markdown",
   "id": "6b238518-50e7-45e4-9b59-3bdb5bac095a",
   "metadata": {},
   "source": [
    "## Run pySPaRTAN"
   ]
  },
  {
   "cell_type": "markdown",
   "id": "75cdbf67-5b65-4027-adba-10659662fb61",
   "metadata": {},
   "source": [
    "### 1. Importing and Preprocessing CITE_seq Data"
   ]
  },
  {
   "cell_type": "code",
   "execution_count": 10,
   "id": "5db086f5-4428-475e-ab5a-1fc0800014c9",
   "metadata": {},
   "outputs": [
    {
     "ename": "ModuleNotFoundError",
     "evalue": "No module named 'adjustText'",
     "output_type": "error",
     "traceback": [
      "\u001b[0;31m---------------------------------------------------------------------------\u001b[0m",
      "\u001b[0;31mModuleNotFoundError\u001b[0m                       Traceback (most recent call last)",
      "Cell \u001b[0;32mIn[10], line 6\u001b[0m\n\u001b[1;32m      4\u001b[0m \u001b[38;5;28;01mfrom\u001b[39;00m \u001b[38;5;21;01mmatplotlib\u001b[39;00m \u001b[38;5;28;01mimport\u001b[39;00m pyplot \u001b[38;5;28;01mas\u001b[39;00m plt\n\u001b[1;32m      5\u001b[0m \u001b[38;5;28;01mimport\u001b[39;00m \u001b[38;5;21;01mnumpy\u001b[39;00m \u001b[38;5;28;01mas\u001b[39;00m \u001b[38;5;21;01mnp\u001b[39;00m\n\u001b[0;32m----> 6\u001b[0m \u001b[38;5;28;01mimport\u001b[39;00m \u001b[38;5;21;01mpySPaRTAN\u001b[39;00m\n",
      "File \u001b[0;32m~/Anaconda/anaconda3/envs/seminar2024/lib/python3.12/site-packages/pySPaRTAN/__init__.py:1\u001b[0m\n\u001b[0;32m----> 1\u001b[0m \u001b[38;5;28;01mimport\u001b[39;00m \u001b[38;5;21;01mpySPaRTAN\u001b[39;00m\u001b[38;5;21;01m.\u001b[39;00m\u001b[38;5;21;01mpl\u001b[39;00m\n\u001b[1;32m      2\u001b[0m \u001b[38;5;28;01mimport\u001b[39;00m \u001b[38;5;21;01mpySPaRTAN\u001b[39;00m\u001b[38;5;21;01m.\u001b[39;00m\u001b[38;5;21;01mpp\u001b[39;00m\n\u001b[1;32m      3\u001b[0m \u001b[38;5;28;01mimport\u001b[39;00m \u001b[38;5;21;01mpySPaRTAN\u001b[39;00m\u001b[38;5;21;01m.\u001b[39;00m\u001b[38;5;21;01mdatasets\u001b[39;00m\n",
      "File \u001b[0;32m~/Anaconda/anaconda3/envs/seminar2024/lib/python3.12/site-packages/pySPaRTAN/pl.py:6\u001b[0m\n\u001b[1;32m      4\u001b[0m \u001b[38;5;28;01mfrom\u001b[39;00m \u001b[38;5;21;01mmatplotlib\u001b[39;00m \u001b[38;5;28;01mimport\u001b[39;00m pyplot \u001b[38;5;28;01mas\u001b[39;00m plt\n\u001b[1;32m      5\u001b[0m \u001b[38;5;28;01mfrom\u001b[39;00m \u001b[38;5;21;01mscipy\u001b[39;00m\u001b[38;5;21;01m.\u001b[39;00m\u001b[38;5;21;01mstats\u001b[39;00m \u001b[38;5;28;01mimport\u001b[39;00m rankdata\n\u001b[0;32m----> 6\u001b[0m \u001b[38;5;28;01mfrom\u001b[39;00m \u001b[38;5;21;01madjustText\u001b[39;00m \u001b[38;5;28;01mimport\u001b[39;00m adjust_text\n\u001b[1;32m      9\u001b[0m \u001b[38;5;28;01mdef\u001b[39;00m \u001b[38;5;21mtf_dotplot\u001b[39m(adata,\n\u001b[1;32m     10\u001b[0m                tfs_to_plot\u001b[38;5;241m=\u001b[39m\u001b[38;5;28;01mNone\u001b[39;00m,\n\u001b[1;32m     11\u001b[0m                group\u001b[38;5;241m=\u001b[39m\u001b[38;5;124m\"\u001b[39m\u001b[38;5;124mcell_type\u001b[39m\u001b[38;5;124m\"\u001b[39m,\n\u001b[1;32m     12\u001b[0m                color\u001b[38;5;241m=\u001b[39m\u001b[38;5;124m\"\u001b[39m\u001b[38;5;124mtf\u001b[39m\u001b[38;5;124m\"\u001b[39m,\n\u001b[1;32m     13\u001b[0m                size\u001b[38;5;241m=\u001b[39m\u001b[38;5;124m\"\u001b[39m\u001b[38;5;124mtf_sig\u001b[39m\u001b[38;5;124m\"\u001b[39m\n\u001b[1;32m     14\u001b[0m                ):\n\u001b[1;32m     15\u001b[0m \u001b[38;5;250m    \u001b[39m\u001b[38;5;124;03m'''\u001b[39;00m\n\u001b[1;32m     16\u001b[0m \n\u001b[1;32m     17\u001b[0m \u001b[38;5;124;03m    Parameters\u001b[39;00m\n\u001b[0;32m   (...)\u001b[0m\n\u001b[1;32m     27\u001b[0m \n\u001b[1;32m     28\u001b[0m \u001b[38;5;124;03m    '''\u001b[39;00m\n",
      "\u001b[0;31mModuleNotFoundError\u001b[0m: No module named 'adjustText'"
     ]
    }
   ],
   "source": [
    "import scanpy as sc\n",
    "import seaborn as sns\n",
    "import pandas as pd\n",
    "from matplotlib import pyplot as plt\n",
    "import numpy as np\n",
    "import pySPaRTAN"
   ]
  },
  {
   "cell_type": "code",
   "execution_count": null,
   "id": "8d066a3f-9215-45a1-8ace-47236ca28143",
   "metadata": {},
   "outputs": [],
   "source": []
  },
  {
   "cell_type": "code",
   "execution_count": null,
   "id": "96061d90-1fbe-43cc-8b47-b0c2a8b108d9",
   "metadata": {},
   "outputs": [],
   "source": []
  }
 ],
 "metadata": {
  "kernelspec": {
   "display_name": "Python 3 (ipykernel)",
   "language": "python",
   "name": "python3"
  },
  "language_info": {
   "codemirror_mode": {
    "name": "ipython",
    "version": 3
   },
   "file_extension": ".py",
   "mimetype": "text/x-python",
   "name": "python",
   "nbconvert_exporter": "python",
   "pygments_lexer": "ipython3",
   "version": "3.12.3"
  }
 },
 "nbformat": 4,
 "nbformat_minor": 5
}
